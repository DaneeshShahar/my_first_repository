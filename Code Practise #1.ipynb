{
 "cells": [
  {
   "cell_type": "markdown",
   "metadata": {},
   "source": [
    "# Code Practise #1\n"
   ]
  },
  {
   "cell_type": "markdown",
   "metadata": {},
   "source": [
    "Ahmad Daneesh Syah Shahar\n",
    "<br>ads766\n",
    "<br>data_bootcamp fall'18"
   ]
  },
  {
   "cell_type": "markdown",
   "metadata": {},
   "source": [
    "## Question 1"
   ]
  },
  {
   "cell_type": "markdown",
   "metadata": {},
   "source": [
    "2+5 produces 7 because '+' adds the two integers.\n",
    "<br> 2 + 5 produces 7 as well because the spacing does not affect the output."
   ]
  },
  {
   "cell_type": "code",
   "execution_count": 83,
   "metadata": {},
   "outputs": [
    {
     "data": {
      "text/plain": [
       "10"
      ]
     },
     "execution_count": 83,
     "metadata": {},
     "output_type": "execute_result"
    }
   ],
   "source": [
    "2*5"
   ]
  },
  {
   "cell_type": "markdown",
   "metadata": {},
   "source": [
    "<br> 2*5 outputs 10 as * represents the multiplication symbol. (Seen above)\n",
    "<br> 2/5 outputs 0.4 as the division function returns a float value even when dividing with 2 integers.\n",
    "<br> 2**5 returns 32 because it the exponent function and here represents 2 to the power of 5."
   ]
  },
  {
   "cell_type": "markdown",
   "metadata": {},
   "source": [
    "## Question 2"
   ]
  },
  {
   "cell_type": "markdown",
   "metadata": {},
   "source": [
    "The value of x after running the statements is 10. The first statement sets the x variable to 7 and the second reassigns the x variable to equal the previously set x variable (7) plus 3."
   ]
  },
  {
   "cell_type": "markdown",
   "metadata": {},
   "source": [
    "## Question 3"
   ]
  },
  {
   "cell_type": "markdown",
   "metadata": {},
   "source": [
    "The value of y after runnings the statements is still 3 and of x is 10. y is unaffected by the reassignment of the x variable to 10 because ywas set prior to it."
   ]
  },
  {
   "cell_type": "markdown",
   "metadata": {},
   "source": [
    "## Question 4"
   ]
  },
  {
   "cell_type": "markdown",
   "metadata": {},
   "source": [
    "The code runs without an error and produces '1.5 abcabc'. The z variable is set to concatenate 2 (identical) strings which is possible."
   ]
  },
  {
   "cell_type": "code",
   "execution_count": 5,
   "metadata": {},
   "outputs": [
    {
     "name": "stdout",
     "output_type": "stream",
     "text": [
      "1.5 abcabc\n"
     ]
    }
   ],
   "source": [
    "x = 3\n",
    "x = x/2\n",
    "y = 'abc'\n",
    "z = y + y\n",
    "print(x,z)"
   ]
  },
  {
   "cell_type": "markdown",
   "metadata": {},
   "source": [
    "## Question 5"
   ]
  },
  {
   "cell_type": "markdown",
   "metadata": {},
   "source": [
    "Yes the code produces an error. This is because varible z is set to concatenate a string and a float value which is not possible as they are two different object types."
   ]
  },
  {
   "cell_type": "markdown",
   "metadata": {},
   "source": [
    "## Question 6"
   ]
  },
  {
   "cell_type": "markdown",
   "metadata": {},
   "source": [
    "The code run without an error and produces 3 | 24 | 8.0. The z variable is a float value as it assigned to 24/3. Each variable is printed out and separated by '|' surrounded by one space on each side."
   ]
  },
  {
   "cell_type": "code",
   "execution_count": 3,
   "metadata": {},
   "outputs": [
    {
     "name": "stdout",
     "output_type": "stream",
     "text": [
      "3 | 24 | 8.0\n"
     ]
    }
   ],
   "source": [
    "x = 3\n",
    "y = 24\n",
    "z = y/x\n",
    "print(x,y,z, sep=' | ')"
   ]
  },
  {
   "cell_type": "markdown",
   "metadata": {},
   "source": [
    "## Question 7"
   ]
  },
  {
   "cell_type": "markdown",
   "metadata": {},
   "source": [
    "The code runs with an error as a string (y, '24') cannot be divided by an integer (x, 3)."
   ]
  },
  {
   "cell_type": "markdown",
   "metadata": {},
   "source": [
    "## Question 8"
   ]
  },
  {
   "cell_type": "markdown",
   "metadata": {},
   "source": [
    "The code runs without an error and produces 'I am a #string' when the print function is used. What is written after # is a comment."
   ]
  },
  {
   "cell_type": "code",
   "execution_count": 1,
   "metadata": {},
   "outputs": [
    {
     "name": "stdout",
     "output_type": "stream",
     "text": [
      "I am a #string\n"
     ]
    }
   ],
   "source": [
    "x = \"I am a #string\" #Whoa, a string\n",
    "print(x)"
   ]
  },
  {
   "cell_type": "markdown",
   "metadata": {},
   "source": [
    "## Question 9"
   ]
  },
  {
   "cell_type": "markdown",
   "metadata": {},
   "source": [
    "The code produces [1, 2, 3, 42, 43] when using the print function, the z variable is set to the concatenation of the two lists assigned to x and y."
   ]
  },
  {
   "cell_type": "code",
   "execution_count": 3,
   "metadata": {},
   "outputs": [
    {
     "name": "stdout",
     "output_type": "stream",
     "text": [
      "[1, 2, 3, 42, 43]\n"
     ]
    }
   ],
   "source": [
    "x = [1, 2, 3]\n",
    "y = [42, 43]\n",
    "z = x + y\n",
    "print(z)"
   ]
  },
  {
   "cell_type": "markdown",
   "metadata": {},
   "source": [
    "## Question 10"
   ]
  },
  {
   "cell_type": "markdown",
   "metadata": {},
   "source": [
    "The code produces an error as you cannot concatenate a list with an integer as attempted for the z variable."
   ]
  },
  {
   "cell_type": "markdown",
   "metadata": {},
   "source": [
    "## Question 11"
   ]
  },
  {
   "cell_type": "markdown",
   "metadata": {},
   "source": [
    "x1 - integer\n",
    "<br> x2 - float\n",
    "<br> x3 - string\n",
    "<br> x4 - list\n",
    "<br> x5 - list"
   ]
  },
  {
   "cell_type": "markdown",
   "metadata": {},
   "source": [
    "## Question 12"
   ]
  },
  {
   "cell_type": "markdown",
   "metadata": {},
   "source": [
    "type(42) produces 'int' as the type function reads the object in its parentheses and outputs its type\n",
    "<br> type(42.0) outputs 'float' as 42.0 carries a decimal value.\n",
    "<br> type('42.0') outputs 'str' as the single quotations indicate a string value.\n",
    "<br> type(\"42.0\") outputs 'str' as the double quotations indicate a string value.\n",
    "<br> type(\"\"\"42.0\"\"\") outputs 'str' as \"\"\" on each side of a value can also be used to indicate a string.\n",
    "<br> type([1, 2]) outputs 'list'.\n",
    "<br> type([1] + [2]) outputs 'list' as added values are list types.\n",
    "<br> type(1 + 2) ouputs 'int' as the added values are int types.\n",
    "<br> type(print) outputs 'builtin_function_or_method' as print is the method for printing in the console."
   ]
  },
  {
   "cell_type": "code",
   "execution_count": 24,
   "metadata": {},
   "outputs": [
    {
     "data": {
      "text/plain": [
       "builtin_function_or_method"
      ]
     },
     "execution_count": 24,
     "metadata": {},
     "output_type": "execute_result"
    }
   ],
   "source": [
    "type(float(str(int)))"
   ]
  },
  {
   "cell_type": "markdown",
   "metadata": {},
   "source": [
    "## Question 13"
   ]
  },
  {
   "cell_type": "markdown",
   "metadata": {},
   "source": [
    "Working our way from the inside out. '1234' exists as string, the int() converts it into an integer, 1234. Then the str() converts the integer back into a string, '1234'. Float() then converts it into a float, 1234.0. The type function reads the value type and outputs it, which in this case is a float."
   ]
  },
  {
   "cell_type": "code",
   "execution_count": 28,
   "metadata": {},
   "outputs": [
    {
     "data": {
      "text/plain": [
       "float"
      ]
     },
     "execution_count": 28,
     "metadata": {},
     "output_type": "execute_result"
    }
   ],
   "source": [
    "type(float(str(int('1234'))))"
   ]
  },
  {
   "cell_type": "markdown",
   "metadata": {},
   "source": [
    "## Question 14"
   ]
  },
  {
   "cell_type": "markdown",
   "metadata": {},
   "source": [
    "Working our way from the inside out. '12.34' is a string, the float method then converts that into a float, 12.34. Int() truncates the float to 12 (always rounds down). Finally, the type function reads the object and outputs its type, which here is an int. "
   ]
  },
  {
   "cell_type": "markdown",
   "metadata": {},
   "source": [
    "## Question 15"
   ]
  },
  {
   "cell_type": "markdown",
   "metadata": {},
   "source": [
    "len([1234]) outputs 1. The length function here counts and outputs the number of objects separated by a comma are in the list, which is 1 here.\n",
    "<br> len(\"1234\") outputs 4 as the length function counts and outputs the characters in the string which is 4 here.\n",
    "<br> len(1234) produces an error as the length function cannot be used to count the length of an integer, or float for that matter"
   ]
  },
  {
   "cell_type": "markdown",
   "metadata": {},
   "source": [
    "## Question 16"
   ]
  },
  {
   "cell_type": "code",
   "execution_count": 37,
   "metadata": {},
   "outputs": [
    {
     "name": "stdout",
     "output_type": "stream",
     "text": [
      "<class 'list'>\n",
      "0\n"
     ]
    }
   ],
   "source": [
    "x = []\n",
    "print(type(x))\n",
    "print(len(x))"
   ]
  },
  {
   "cell_type": "markdown",
   "metadata": {},
   "source": [
    "x = [] is a list type and is 0 list values long."
   ]
  },
  {
   "cell_type": "markdown",
   "metadata": {},
   "source": [
    "## Question 17"
   ]
  },
  {
   "cell_type": "code",
   "execution_count": 38,
   "metadata": {},
   "outputs": [
    {
     "name": "stdout",
     "output_type": "stream",
     "text": [
      "['a', 'b', 'c', 'd', 'e']\n"
     ]
    }
   ],
   "source": [
    "x = 'abcde'\n",
    "x = list(x)\n",
    "print(x)"
   ]
  },
  {
   "cell_type": "markdown",
   "metadata": {},
   "source": [
    "Converting 'abcde' into a list converts each character in the string into a list value."
   ]
  },
  {
   "cell_type": "markdown",
   "metadata": {},
   "source": [
    "## Question 18"
   ]
  },
  {
   "cell_type": "code",
   "execution_count": 15,
   "metadata": {},
   "outputs": [
    {
     "name": "stdout",
     "output_type": "stream",
     "text": [
      "1234.0\n"
     ]
    }
   ],
   "source": [
    "x = 1234\n",
    "x = float(x)\n",
    "print(x)"
   ]
  },
  {
   "cell_type": "code",
   "execution_count": 16,
   "metadata": {},
   "outputs": [
    {
     "name": "stdout",
     "output_type": "stream",
     "text": [
      "1234\n"
     ]
    }
   ],
   "source": [
    "# from float to int to string\n",
    "x = int(x)\n",
    "x = str(x)\n",
    "print(x)"
   ]
  },
  {
   "cell_type": "code",
   "execution_count": 17,
   "metadata": {},
   "outputs": [
    {
     "name": "stdout",
     "output_type": "stream",
     "text": [
      "['1', '2', '3', '4']\n"
     ]
    }
   ],
   "source": [
    "x = int(x)\n",
    "x = str(x)\n",
    "x = list(x)\n",
    "print(x)"
   ]
  },
  {
   "cell_type": "markdown",
   "metadata": {},
   "source": [
    "## Question 19"
   ]
  },
  {
   "cell_type": "code",
   "execution_count": 82,
   "metadata": {},
   "outputs": [
    {
     "name": "stdout",
     "output_type": "stream",
     "text": [
      "Luke, I Am Your Father\n"
     ]
    }
   ],
   "source": [
    "x = \"luke, i am your father\"\n",
    "x = x.title()\n",
    "print(x)"
   ]
  },
  {
   "cell_type": "markdown",
   "metadata": {},
   "source": [
    "## Question 20"
   ]
  },
  {
   "cell_type": "code",
   "execution_count": 21,
   "metadata": {},
   "outputs": [
    {
     "name": "stdout",
     "output_type": "stream",
     "text": [
      "48\n"
     ]
    }
   ],
   "source": [
    "x = \"How many characters and words are in the string?\"\n",
    "print(len(x))"
   ]
  },
  {
   "cell_type": "markdown",
   "metadata": {},
   "source": [
    "Spaces in a string are also considered characters"
   ]
  },
  {
   "cell_type": "code",
   "execution_count": 75,
   "metadata": {},
   "outputs": [
    {
     "name": "stdout",
     "output_type": "stream",
     "text": [
      "['H', 'o', 'w', ' ', 'm', 'a', 'n', 'y', ' ', 'c', 'h', 'a', 'r', 'a', 'c', 't', 'e', 'r', 's', ' ', 'a', 'n', 'd', ' ', 'w', 'o', 'r', 'd', 's', ' ', 'a', 'r', 'e', ' ', 'i', 'n', ' ', 't', 'h', 'e', ' ', 's', 't', 'r', 'i', 'n', 'g', '?']\n"
     ]
    }
   ],
   "source": [
    "x = list(x)\n",
    "print(x)"
   ]
  },
  {
   "cell_type": "code",
   "execution_count": 76,
   "metadata": {},
   "outputs": [
    {
     "name": "stdout",
     "output_type": "stream",
     "text": [
      "['How', 'many', 'characters', 'and', 'words', 'are', 'in', 'the', 'string?']\n"
     ]
    }
   ],
   "source": [
    "x = \"How many characters and words are in the string?\"\n",
    "x = x.split()\n",
    "print(x)"
   ]
  },
  {
   "cell_type": "code",
   "execution_count": 77,
   "metadata": {},
   "outputs": [
    {
     "name": "stdout",
     "output_type": "stream",
     "text": [
      "9\n"
     ]
    }
   ],
   "source": [
    "print(len(x))"
   ]
  },
  {
   "cell_type": "markdown",
   "metadata": {},
   "source": [
    "x contains 9 words"
   ]
  },
  {
   "cell_type": "markdown",
   "metadata": {},
   "source": [
    "## Question 21"
   ]
  },
  {
   "cell_type": "markdown",
   "metadata": {},
   "source": [
    "https://github.com/DaneeshShahar/my_first_repository"
   ]
  }
 ],
 "metadata": {
  "kernelspec": {
   "display_name": "Python 3",
   "language": "python",
   "name": "python3"
  },
  "language_info": {
   "codemirror_mode": {
    "name": "ipython",
    "version": 3
   },
   "file_extension": ".py",
   "mimetype": "text/x-python",
   "name": "python",
   "nbconvert_exporter": "python",
   "pygments_lexer": "ipython3",
   "version": "3.6.5"
  }
 },
 "nbformat": 4,
 "nbformat_minor": 2
}
